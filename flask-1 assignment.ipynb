{
 "cells": [
  {
   "cell_type": "code",
   "execution_count": null,
   "id": "cda90b1d-0d53-49f2-9af6-c45602d48166",
   "metadata": {},
   "outputs": [],
   "source": [
    " Q1. What is Flask Framework? What are the advantages of Flask Framework?\n",
    "    \n",
    "    \n",
    " Flask is a micro web framework written in Python. It is classified as a microframework because it does\n",
    "not require particular tools or libraries. It has no database abstraction layer, form validation, or any\n",
    "other components where pre-existing third-party libraries provide common functions.\n",
    "\n",
    "Advantages of using Flask framework are:\n",
    "(i) There is a built-in development server and a fast debugger provided.\n",
    "(ii) Lightweight.\n",
    "(iii) Support Secure cookies.\n",
    "(iv) Templating using Jinja2.\n",
    "(v) Request dispatching using REST.\n",
    "(vi) Support for unit testing is built-in.\n",
    "   "
   ]
  },
  {
   "cell_type": "code",
   "execution_count": null,
   "id": "54ce9de0-78ee-4640-b027-de3fce273ef4",
   "metadata": {},
   "outputs": [],
   "source": [
    " Q2. Create a simple Flask application to display ‘Hello World!!’. \n",
    "    \n",
    "    \n",
    "    \n",
    " from flask import Flask, jsonify, request \n",
    "\n",
    "app = Flask(__name__) \n",
    "\n",
    "\n",
    "@app.route('/hello', methods=['GET']) \n",
    "def helloworld(): \n",
    "\tif(request.method == 'GET'): \n",
    "\t\tdata = {\"data\": \"Hello World\"} \n",
    "\t\treturn jsonify(data) \n",
    "\n",
    "\n",
    "if __name__ == '__main__': \n",
    "\tapp.run(debug=True) \n",
    "   \n"
   ]
  },
  {
   "cell_type": "code",
   "execution_count": null,
   "id": "4418fbe5-e5ce-4378-bf24-56453d22ac23",
   "metadata": {},
   "outputs": [],
   "source": [
    " Q3. What is App routing in Flask? Why do we use app routes.\n",
    "    \n",
    "    \n",
    "App Routing means mapping the URLs to a specific function that will handle the logic for that URL. Modern web frameworks use more\n",
    "meaningful URLs to help users remember the URLs and make navigation simpler. Example: In our application, the URL (“/”) is\n",
    "associated with the root URL .\n",
    "\n",
    "App routing is the technique used to map the specific URL with the associated function intended to perform some task. \n",
    "The Latest Web frameworks use the routing technique to help users remember application URLs. It is helpful to access the desired page\n",
    "directly without navigating from the home page."
   ]
  },
  {
   "cell_type": "code",
   "execution_count": null,
   "id": "4c9671df-9213-4fbc-b41f-51c6464cf865",
   "metadata": {},
   "outputs": [],
   "source": [
    "Q5. What function is used in Flask for URL Building? Write a Python code to demonstrate the working of the \n",
    "url_for() function.\n",
    "\n",
    "\n",
    "Flask url_for() method:\n",
    "The url_for() method, is used to prepare a URL, for a function dynamically, such that, changing URLs, in the application, is avoided.\n",
    "It accepts, the name of the view function, as the first argument, and, any number of keywords, to be sent(to the view function), as the\n",
    "second argument."
   ]
  },
  {
   "cell_type": "code",
   "execution_count": 3,
   "id": "c37e81a5-375f-4ac2-9a77-d3433bfdb33d",
   "metadata": {},
   "outputs": [
    {
     "ename": "ModuleNotFoundError",
     "evalue": "No module named 'flask'",
     "output_type": "error",
     "traceback": [
      "\u001b[0;31m---------------------------------------------------------------------------\u001b[0m",
      "\u001b[0;31mModuleNotFoundError\u001b[0m                       Traceback (most recent call last)",
      "Cell \u001b[0;32mIn[3], line 2\u001b[0m\n\u001b[1;32m      1\u001b[0m \u001b[38;5;66;03m# import the Flask library \u001b[39;00m\n\u001b[0;32m----> 2\u001b[0m \u001b[38;5;28;01mfrom\u001b[39;00m \u001b[38;5;21;01mflask\u001b[39;00m \u001b[38;5;28;01mimport\u001b[39;00m Flask, render_template \n\u001b[1;32m      5\u001b[0m \u001b[38;5;66;03m# Create the Flask instance and pass the Flask \u001b[39;00m\n\u001b[1;32m      6\u001b[0m \u001b[38;5;66;03m# constructor, the path of the correct module \u001b[39;00m\n\u001b[1;32m      7\u001b[0m app \u001b[38;5;241m=\u001b[39m Flask(\u001b[38;5;18m__name__\u001b[39m) \n",
      "\u001b[0;31mModuleNotFoundError\u001b[0m: No module named 'flask'"
     ]
    }
   ],
   "source": [
    "# import the Flask library \n",
    "from flask import Flask, render_template \n",
    "\n",
    "\n",
    "# Create the Flask instance and pass the Flask \n",
    "# constructor, the path of the correct module \n",
    "app = Flask(__name__) \n",
    "\n",
    "\n",
    "# Default route added using a decorator, for view function 'welcome' \n",
    "# Landing page of our web application - sportsmain.html \n",
    "@app.route('/') \n",
    "def welcome(): \n",
    "\treturn render_template('sportsmain.html') \n",
    "\n",
    "\n",
    "# Start with flask web app, with debug as True, \n",
    "# only if this is the starting page \n",
    "if(__name__ == \"__main__\"): \n",
    "\tapp.run(debug=True) \n"
   ]
  },
  {
   "cell_type": "code",
   "execution_count": null,
   "id": "12c6de00-abbe-47cf-ad29-315b554c78ec",
   "metadata": {},
   "outputs": [],
   "source": []
  }
 ],
 "metadata": {
  "kernelspec": {
   "display_name": "Python 3 (ipykernel)",
   "language": "python",
   "name": "python3"
  },
  "language_info": {
   "codemirror_mode": {
    "name": "ipython",
    "version": 3
   },
   "file_extension": ".py",
   "mimetype": "text/x-python",
   "name": "python",
   "nbconvert_exporter": "python",
   "pygments_lexer": "ipython3",
   "version": "3.10.8"
  }
 },
 "nbformat": 4,
 "nbformat_minor": 5
}
